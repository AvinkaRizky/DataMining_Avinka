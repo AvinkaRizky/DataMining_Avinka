{
  "nbformat": 4,
  "nbformat_minor": 0,
  "metadata": {
    "colab": {
      "provenance": [],
      "authorship_tag": "ABX9TyMuRgRqAco9FkHbM5vPFb4H",
      "include_colab_link": true
    },
    "kernelspec": {
      "name": "python3",
      "display_name": "Python 3"
    },
    "language_info": {
      "name": "python"
    }
  },
  "cells": [
    {
      "cell_type": "markdown",
      "metadata": {
        "id": "view-in-github",
        "colab_type": "text"
      },
      "source": [
        "<a href=\"https://colab.research.google.com/github/AvinkaRizky/DataMining_Avinka/blob/main/049_Avinka.ipynb\" target=\"_parent\"><img src=\"https://colab.research.google.com/assets/colab-badge.svg\" alt=\"Open In Colab\"/></a>"
      ]
    },
    {
      "cell_type": "markdown",
      "source": [
        "# **BUSINESS UNDERSTANDING**"
      ],
      "metadata": {
        "id": "sJNP9PhgPW0f"
      }
    },
    {
      "cell_type": "markdown",
      "source": [
        "# ***Tujuan Bisnis:***\n",
        "Tujuan bisnis dari dataset data mobil bekas adalah bahwa dataset ini bertujuan untuk menyediakan informasi yang menyeluruh dan juga terstruktur kepada berbagai pemangku kepentingan dalam industri otomotif. Melalui analisis mendalam terhadap tren pasar, perilaku konsumen, harga, dan performa mobil bekas, dataset ini memungkinkan pengembangan strategi pemasaran yang lebih efektif, penyesuaian harga yang tepat, identifikasi peluang investasi, serta pemahaman yang lebih baik tentang dinamika pasar untuk pengambilan keputusan yang cerdas. Dengan demikian, dataset data mobil bekas berperan penting dalam mendukung pertumbuhan bisnis yang berkelanjutan dan adaptasi terhadap perubahan dalam industri otomotif.\n"
      ],
      "metadata": {
        "id": "vlbJz0lMPsb3"
      }
    },
    {
      "cell_type": "markdown",
      "source": [
        "# ***ASSESS SITUATION***\n",
        "Situasi yang mendasari adalah karena kompleksitas dan dinamika pasar otomotif yang terus berubah. Sebagai industri yang dipengaruhi oleh banyak faktor, seperti tren ekonomi, teknologi, dan preferensi konsumen, pemangku kepentingan dalam industri otomotif perlu memiliki akses ke informasi yang mendalam dan terstruktur untuk dapat membuat keputusan yang tepat."
      ],
      "metadata": {
        "id": "NQ32YnMkTan6"
      }
    },
    {
      "cell_type": "markdown",
      "source": [
        "# ***DATA MINING GOALS***\n",
        "Untuk mengidentifikasi faktor-faktor yang mempengaruhi harga mobil bekas, mengidentifikasi segmen pasar yang potensial, memprediksi permintaan mobil bekas di masa mendatang, dan mengembangkan model prediksi penjualan. Dengan melakukan analisis data yang mendalam, akan dapat membuat keputusan yang lebih tepat waktu dan tepat sasaran."
      ],
      "metadata": {
        "id": "t6q1sXkHr8iB"
      }
    },
    {
      "cell_type": "markdown",
      "source": [
        "# ***PROJECT PLAN***\n",
        "Awalnya akan mengumpulkan data yang relevan dari berbagai sumber termasuk situs web penjualan mobil, database dealer, dan sumber data pihak ketiga. Selanjutnya, analisis data untuk mengidentifikasi pola-pola dan hubungan antara variabel-variabel yang ada.hasil analisis dan model yang dikembangkan akan digunakan untuk merancang strategi pemasaran yang lebih efektif dan pengambilan keputusan yang lebih tepat dalam penjualan mobil bekas."
      ],
      "metadata": {
        "id": "0jaAn5bZtC87"
      }
    }
  ]
}
